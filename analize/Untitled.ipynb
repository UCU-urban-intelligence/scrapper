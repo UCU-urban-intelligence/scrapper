{
 "cells": [
  {
   "cell_type": "code",
   "execution_count": 1,
   "metadata": {},
   "outputs": [],
   "source": [
    "import pandas as pd\n",
    "import seaborn as sns\n",
    "import matplotlib.pyplot as plt\n",
    "\n",
    "sns.set(color_codes=True)"
   ]
  },
  {
   "cell_type": "code",
   "execution_count": 2,
   "metadata": {},
   "outputs": [
    {
     "name": "stdout",
     "output_type": "stream",
     "text": [
      "[ 0. nan]\n"
     ]
    },
    {
     "data": {
      "text/html": [
       "<div>\n",
       "<style scoped>\n",
       "    .dataframe tbody tr th:only-of-type {\n",
       "        vertical-align: middle;\n",
       "    }\n",
       "\n",
       "    .dataframe tbody tr th {\n",
       "        vertical-align: top;\n",
       "    }\n",
       "\n",
       "    .dataframe thead th {\n",
       "        text-align: right;\n",
       "    }\n",
       "</style>\n",
       "<table border=\"1\" class=\"dataframe\">\n",
       "  <thead>\n",
       "    <tr style=\"text-align: right;\">\n",
       "      <th></th>\n",
       "      <th>air_quality</th>\n",
       "      <th>area</th>\n",
       "      <th>closest_shop</th>\n",
       "      <th>cloud_cover</th>\n",
       "      <th>height</th>\n",
       "      <th>humidity</th>\n",
       "      <th>temperature</th>\n",
       "      <th>efficiency</th>\n",
       "    </tr>\n",
       "  </thead>\n",
       "  <tbody>\n",
       "    <tr>\n",
       "      <th>0</th>\n",
       "      <td>55</td>\n",
       "      <td>6489.091950</td>\n",
       "      <td>2</td>\n",
       "      <td>0.34</td>\n",
       "      <td>15</td>\n",
       "      <td>0.57</td>\n",
       "      <td>17.81</td>\n",
       "      <td>0.615261</td>\n",
       "    </tr>\n",
       "    <tr>\n",
       "      <th>1</th>\n",
       "      <td>55</td>\n",
       "      <td>243.836661</td>\n",
       "      <td>2</td>\n",
       "      <td>0.34</td>\n",
       "      <td>15</td>\n",
       "      <td>0.57</td>\n",
       "      <td>17.76</td>\n",
       "      <td>0.631757</td>\n",
       "    </tr>\n",
       "    <tr>\n",
       "      <th>2</th>\n",
       "      <td>55</td>\n",
       "      <td>120.319194</td>\n",
       "      <td>2</td>\n",
       "      <td>0.34</td>\n",
       "      <td>15</td>\n",
       "      <td>0.57</td>\n",
       "      <td>17.76</td>\n",
       "      <td>0.596376</td>\n",
       "    </tr>\n",
       "    <tr>\n",
       "      <th>3</th>\n",
       "      <td>55</td>\n",
       "      <td>299.354696</td>\n",
       "      <td>2</td>\n",
       "      <td>0.34</td>\n",
       "      <td>15</td>\n",
       "      <td>0.57</td>\n",
       "      <td>17.76</td>\n",
       "      <td>0.481979</td>\n",
       "    </tr>\n",
       "    <tr>\n",
       "      <th>4</th>\n",
       "      <td>55</td>\n",
       "      <td>93.194304</td>\n",
       "      <td>2</td>\n",
       "      <td>0.34</td>\n",
       "      <td>15</td>\n",
       "      <td>0.57</td>\n",
       "      <td>17.76</td>\n",
       "      <td>0.553214</td>\n",
       "    </tr>\n",
       "  </tbody>\n",
       "</table>\n",
       "</div>"
      ],
      "text/plain": [
       "   air_quality         area  closest_shop  cloud_cover  height  humidity  \\\n",
       "0           55  6489.091950             2         0.34      15      0.57   \n",
       "1           55   243.836661             2         0.34      15      0.57   \n",
       "2           55   120.319194             2         0.34      15      0.57   \n",
       "3           55   299.354696             2         0.34      15      0.57   \n",
       "4           55    93.194304             2         0.34      15      0.57   \n",
       "\n",
       "   temperature  efficiency  \n",
       "0        17.81    0.615261  \n",
       "1        17.76    0.631757  \n",
       "2        17.76    0.596376  \n",
       "3        17.76    0.481979  \n",
       "4        17.76    0.553214  "
      ]
     },
     "execution_count": 2,
     "metadata": {},
     "output_type": "execute_result"
    }
   ],
   "source": [
    "df = pd.read_csv('./merged_df_efficiency.csv')\n",
    "print(df['shops_count'].unique())\n",
    "df = df.drop([\n",
    "    'Unnamed: 0', \n",
    "    'description', \n",
    "    'geometry', \n",
    "    'amenity', \n",
    "    'shops_count', \n",
    "    'Efficiency Per Size Norm', \n",
    "    'efficiency_without_noise'\n",
    "], axis=1)\n",
    "df.head()"
   ]
  },
  {
   "cell_type": "code",
   "execution_count": 3,
   "metadata": {},
   "outputs": [
    {
     "data": {
      "text/html": [
       "<div>\n",
       "<style scoped>\n",
       "    .dataframe tbody tr th:only-of-type {\n",
       "        vertical-align: middle;\n",
       "    }\n",
       "\n",
       "    .dataframe tbody tr th {\n",
       "        vertical-align: top;\n",
       "    }\n",
       "\n",
       "    .dataframe thead th {\n",
       "        text-align: right;\n",
       "    }\n",
       "</style>\n",
       "<table border=\"1\" class=\"dataframe\">\n",
       "  <thead>\n",
       "    <tr style=\"text-align: right;\">\n",
       "      <th></th>\n",
       "      <th>air_quality</th>\n",
       "      <th>area</th>\n",
       "      <th>closest_shop</th>\n",
       "      <th>cloud_cover</th>\n",
       "      <th>height</th>\n",
       "      <th>humidity</th>\n",
       "      <th>temperature</th>\n",
       "      <th>efficiency</th>\n",
       "    </tr>\n",
       "  </thead>\n",
       "  <tbody>\n",
       "    <tr>\n",
       "      <th>count</th>\n",
       "      <td>5345.000000</td>\n",
       "      <td>5345.000000</td>\n",
       "      <td>5345.000000</td>\n",
       "      <td>5345.000000</td>\n",
       "      <td>5345.000000</td>\n",
       "      <td>5345.000000</td>\n",
       "      <td>5345.000000</td>\n",
       "      <td>5345.000000</td>\n",
       "    </tr>\n",
       "    <tr>\n",
       "      <th>mean</th>\n",
       "      <td>53.304584</td>\n",
       "      <td>397.557358</td>\n",
       "      <td>339.156969</td>\n",
       "      <td>0.339688</td>\n",
       "      <td>14.957717</td>\n",
       "      <td>0.571979</td>\n",
       "      <td>17.843469</td>\n",
       "      <td>0.572996</td>\n",
       "    </tr>\n",
       "    <tr>\n",
       "      <th>std</th>\n",
       "      <td>2.753949</td>\n",
       "      <td>879.540615</td>\n",
       "      <td>283.150742</td>\n",
       "      <td>0.002384</td>\n",
       "      <td>0.574932</td>\n",
       "      <td>0.007506</td>\n",
       "      <td>0.131942</td>\n",
       "      <td>0.154043</td>\n",
       "    </tr>\n",
       "    <tr>\n",
       "      <th>min</th>\n",
       "      <td>45.000000</td>\n",
       "      <td>14.104158</td>\n",
       "      <td>0.000000</td>\n",
       "      <td>0.330000</td>\n",
       "      <td>0.000000</td>\n",
       "      <td>0.550000</td>\n",
       "      <td>17.470000</td>\n",
       "      <td>0.000000</td>\n",
       "    </tr>\n",
       "    <tr>\n",
       "      <th>25%</th>\n",
       "      <td>54.000000</td>\n",
       "      <td>106.445926</td>\n",
       "      <td>110.000000</td>\n",
       "      <td>0.340000</td>\n",
       "      <td>15.000000</td>\n",
       "      <td>0.570000</td>\n",
       "      <td>17.760000</td>\n",
       "      <td>0.475836</td>\n",
       "    </tr>\n",
       "    <tr>\n",
       "      <th>50%</th>\n",
       "      <td>55.000000</td>\n",
       "      <td>160.392502</td>\n",
       "      <td>294.000000</td>\n",
       "      <td>0.340000</td>\n",
       "      <td>15.000000</td>\n",
       "      <td>0.570000</td>\n",
       "      <td>17.810000</td>\n",
       "      <td>0.584824</td>\n",
       "    </tr>\n",
       "    <tr>\n",
       "      <th>75%</th>\n",
       "      <td>55.000000</td>\n",
       "      <td>338.657397</td>\n",
       "      <td>508.000000</td>\n",
       "      <td>0.340000</td>\n",
       "      <td>15.000000</td>\n",
       "      <td>0.570000</td>\n",
       "      <td>17.920000</td>\n",
       "      <td>0.683039</td>\n",
       "    </tr>\n",
       "    <tr>\n",
       "      <th>max</th>\n",
       "      <td>56.000000</td>\n",
       "      <td>20825.515571</td>\n",
       "      <td>1529.000000</td>\n",
       "      <td>0.350000</td>\n",
       "      <td>18.000000</td>\n",
       "      <td>0.610000</td>\n",
       "      <td>18.320000</td>\n",
       "      <td>1.000000</td>\n",
       "    </tr>\n",
       "  </tbody>\n",
       "</table>\n",
       "</div>"
      ],
      "text/plain": [
       "       air_quality          area  closest_shop  cloud_cover       height  \\\n",
       "count  5345.000000   5345.000000   5345.000000  5345.000000  5345.000000   \n",
       "mean     53.304584    397.557358    339.156969     0.339688    14.957717   \n",
       "std       2.753949    879.540615    283.150742     0.002384     0.574932   \n",
       "min      45.000000     14.104158      0.000000     0.330000     0.000000   \n",
       "25%      54.000000    106.445926    110.000000     0.340000    15.000000   \n",
       "50%      55.000000    160.392502    294.000000     0.340000    15.000000   \n",
       "75%      55.000000    338.657397    508.000000     0.340000    15.000000   \n",
       "max      56.000000  20825.515571   1529.000000     0.350000    18.000000   \n",
       "\n",
       "          humidity  temperature   efficiency  \n",
       "count  5345.000000  5345.000000  5345.000000  \n",
       "mean      0.571979    17.843469     0.572996  \n",
       "std       0.007506     0.131942     0.154043  \n",
       "min       0.550000    17.470000     0.000000  \n",
       "25%       0.570000    17.760000     0.475836  \n",
       "50%       0.570000    17.810000     0.584824  \n",
       "75%       0.570000    17.920000     0.683039  \n",
       "max       0.610000    18.320000     1.000000  "
      ]
     },
     "execution_count": 3,
     "metadata": {},
     "output_type": "execute_result"
    }
   ],
   "source": [
    "df.describe()"
   ]
  },
  {
   "cell_type": "code",
   "execution_count": null,
   "metadata": {},
   "outputs": [
    {
     "data": {
      "text/plain": [
       "<matplotlib.axes._subplots.AxesSubplot at 0x7f3de230a240>"
      ]
     },
     "execution_count": 4,
     "metadata": {},
     "output_type": "execute_result"
    },
    {
     "data": {
      "image/png": "[encoded data removed]",
      "text/plain": [
       "<Figure size 1440x720 with 2 Axes>"
      ]
     },
     "metadata": {
      "needs_background": "light"
     },
     "output_type": "display_data"
    }
   ],
   "source": [
    "#Pearson\n",
    "corr = df.corr(method='pearson')\n",
    "fig, ax = plt.subplots(figsize=(20, 10))\n",
    "ax.set_title('Person correlation coefficient', fontsize=20)\n",
    "sns.heatmap(\n",
    "    corr, \n",
    "    ax=ax, \n",
    "    annot=True, \n",
    "    linewidths=.1, \n",
    "    xticklabels=corr.columns.values, \n",
    "    yticklabels=corr.columns.values\n",
    ")"
   ]
  },
  {
   "cell_type": "code",
   "execution_count": null,
   "metadata": {},
   "outputs": [
    {
     "data": {
      "text/plain": [
       "<matplotlib.axes._subplots.AxesSubplot at 0x7f3dddb6f400>"
      ]
     },
     "execution_count": 5,
     "metadata": {},
     "output_type": "execute_result"
    }
   ],
   "source": [
    "#Pearson\n",
    "corr = df.corr(method='spearman')\n",
    "fig, ax = plt.subplots(figsize=(20, 10))\n",
    "ax.set_title('Spearman correlation coefficient', fontsize=20)\n",
    "sns.heatmap(\n",
    "    corr, \n",
    "    ax=ax, \n",
    "    annot=True, \n",
    "    linewidths=.1, \n",
    "    xticklabels=corr.columns.values, \n",
    "    yticklabels=corr.columns.values\n",
    ")"
   ]
  },
  {
   "cell_type": "code",
   "execution_count": null,
   "metadata": {},
   "outputs": [],
   "source": [
    "sns.pairplot(df, markers='+', kind='reg')"
   ]
  }
 ],
 "metadata": {
  "kernelspec": {
   "display_name": "Python 3",
   "language": "python",
   "name": "python3"
  },
  "language_info": {
   "codemirror_mode": {
    "name": "ipython",
    "version": 3
   },
   "file_extension": ".py",
   "mimetype": "text/x-python",
   "name": "python",
   "nbconvert_exporter": "python",
   "pygments_lexer": "ipython3",
   "version": "3.6.6"
  }
 },
 "nbformat": 4,
 "nbformat_minor": 2
}
